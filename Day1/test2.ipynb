testing ipython notebook on github

import pandas as pd
MoviesDF = pd.read_csv("movies.dat",sep="::")
MoviesDF.head()
